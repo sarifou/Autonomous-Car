{
 "cells": [
  {
   "cell_type": "code",
   "execution_count": 18,
   "metadata": {},
   "outputs": [],
   "source": [
    "import csv\n",
    "import cv2\n",
    "import os\n",
    "import numpy as np\n",
    "import matplotlib.pyplot as plt\n",
    "import random\n",
    "from random import shuffle\n",
    "from sklearn.model_selection import train_test_split"
   ]
  },
  {
   "cell_type": "code",
   "execution_count": 3,
   "metadata": {},
   "outputs": [],
   "source": [
    "import tensorflow as tf"
   ]
  },
  {
   "cell_type": "code",
   "execution_count": 15,
   "metadata": {},
   "outputs": [],
   "source": [
    "DATA_PATH = \"data/driving_log.csv\"\n",
    "DATA_IMGS = \"data/\"\n",
    "BATCH_SIZE = 64"
   ]
  },
  {
   "cell_type": "code",
   "execution_count": 12,
   "metadata": {},
   "outputs": [],
   "source": [
    "class ProcessData() :\n",
    "    \"\"\"Classe pour traiter la dataset\"\"\"\n",
    "    def __init__(self, data_path, data_imgs):\n",
    "        \"\"\"Constructeur de la classe qui permet d'initialiser les différents variables\"\"\"\n",
    "        self.data_path = data_path\n",
    "        self.data_imgs = data_imgs\n",
    "        \n",
    "    def index_data(self):\n",
    "        \"\"\"Fonction qui scinde les index de la dataset : set de train et set de validation\"\"\"\n",
    "        with open(self.data_path, \"r\") as file :\n",
    "            content = [line for line in csv.reader(file)]\n",
    "        random_index = np.array(range(len(content)))\n",
    "        train_index, valid_index = train_test_split(random_index, test_size=0.15)\n",
    "        return content, train_index, valid_index\n",
    "    \n",
    "    def get_data(self, log_content, list_index, batch_size) :\n",
    "        \"\"\"Fonction qui fournit la batch à au model d'entraitement\"\"\"\n",
    "        images, rotations = [], []\n",
    "        for index in list_index :\n",
    "            # Correction des angles\n",
    "            angle_correction = [0., 0.25, -.25]\n",
    "            # Selection randomiser d'une image\n",
    "            i = random.choice([0,1,2])\n",
    "            img = cv2.imread(os.path.join(self.data_imgs, log_content[index][i]).replace(\" \", \"\"))\n",
    "            if img is None: continue\n",
    "            # Conversion de l'image\n",
    "            img = cv2.cvtColor(img,cv2.COLOR_BGR2RGB)\n",
    "            # Récupération de la rotation associé à l'image\n",
    "            rotation = float(log_content[index][3])\n",
    "            # Correction de l'angle\n",
    "            rotation = rotation + angle_correction[i]\n",
    "            if random.random() > 0.5 :\n",
    "                img = cv2.flip(img,1)\n",
    "                rotation = rotation * -1\n",
    "            # Ajout dans les tableaux images et rotations\n",
    "            images.append(img)\n",
    "            rotations.append(rotation)\n",
    "            if len(images) >= batch_size :\n",
    "                yield np.array(images), np.array(rotations)\n",
    "                images, rotations = [], [] "
   ]
  },
  {
   "cell_type": "code",
   "execution_count": 13,
   "metadata": {},
   "outputs": [],
   "source": [
    "data_process = ProcessData(DATA_PATH,DATA_IMGS)\n",
    "content, train_index, valid_index = data_process.index_data()"
   ]
  },
  {
   "cell_type": "code",
   "execution_count": null,
   "metadata": {},
   "outputs": [],
   "source": [
    "images, rotation = next(data_process.get_data(content, train_index, BATCH_SIZE))\n",
    "plt.imshow(images[20])\n",
    "print(rotation[20])"
   ]
  },
  {
   "cell_type": "code",
   "execution_count": 8,
   "metadata": {},
   "outputs": [
    {
     "name": "stdout",
     "output_type": "stream",
     "text": [
      "[1935 6948 1795 ... 4395 5653 4131]\n"
     ]
    }
   ],
   "source": []
  },
  {
   "cell_type": "code",
   "execution_count": null,
   "metadata": {},
   "outputs": [],
   "source": []
  }
 ],
 "metadata": {
  "kernelspec": {
   "display_name": "Python 3",
   "language": "python",
   "name": "python3"
  },
  "language_info": {
   "codemirror_mode": {
    "name": "ipython",
    "version": 3
   },
   "file_extension": ".py",
   "mimetype": "text/x-python",
   "name": "python",
   "nbconvert_exporter": "python",
   "pygments_lexer": "ipython3",
   "version": "3.8.3"
  }
 },
 "nbformat": 4,
 "nbformat_minor": 4
}
